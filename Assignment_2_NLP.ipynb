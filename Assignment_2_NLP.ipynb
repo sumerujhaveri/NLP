{
 "cells": [
  {
   "cell_type": "code",
   "execution_count": 2,
   "metadata": {},
   "outputs": [
    {
     "name": "stdout",
     "output_type": "stream",
     "text": [
      "[==================================================] 100.0% 1662.8/1662.8MB downloaded\n"
     ]
    }
   ],
   "source": [
    "import gensim.downloader as api\n",
    "\n",
    "# Load the pretrained word2vec model\n",
    "wv_pretrained = api.load(\"word2vec-google-news-300\")\n"
   ]
  },
  {
   "cell_type": "code",
   "execution_count": 3,
   "metadata": {},
   "outputs": [],
   "source": [
    "words = [\"computer\", \"movie\", \"king\", \"happy\", \"science\"]\n",
    "similar_words = {word: wv_pretrained.most_similar(word) for word in words}\n"
   ]
  },
  {
   "cell_type": "code",
   "execution_count": 4,
   "metadata": {},
   "outputs": [
    {
     "name": "stdout",
     "output_type": "stream",
     "text": [
      "Similar words for 'computer':\n",
      "  computers (0.7979)\n",
      "  laptop (0.6640)\n",
      "  laptop_computer (0.6549)\n",
      "  Computer (0.6473)\n",
      "  com_puter (0.6082)\n",
      "  technician_Leonard_Luchko (0.5663)\n",
      "  mainframes_minicomputers (0.5618)\n",
      "  laptop_computers (0.5585)\n",
      "  PC (0.5540)\n",
      "  maker_Dell_DELL.O (0.5519)\n",
      "\n",
      "Similar words for 'movie':\n",
      "  film (0.8677)\n",
      "  movies (0.8013)\n",
      "  films (0.7363)\n",
      "  moive (0.6830)\n",
      "  Movie (0.6694)\n",
      "  horror_flick (0.6578)\n",
      "  sequel (0.6578)\n",
      "  Guy_Ritchie_Revolver (0.6510)\n",
      "  romantic_comedy (0.6413)\n",
      "  flick (0.6322)\n",
      "\n",
      "Similar words for 'king':\n",
      "  kings (0.7138)\n",
      "  queen (0.6511)\n",
      "  monarch (0.6413)\n",
      "  crown_prince (0.6204)\n",
      "  prince (0.6160)\n",
      "  sultan (0.5865)\n",
      "  ruler (0.5798)\n",
      "  princes (0.5647)\n",
      "  Prince_Paras (0.5433)\n",
      "  throne (0.5422)\n",
      "\n",
      "Similar words for 'happy':\n",
      "  glad (0.7409)\n",
      "  pleased (0.6632)\n",
      "  ecstatic (0.6627)\n",
      "  overjoyed (0.6599)\n",
      "  thrilled (0.6514)\n",
      "  satisfied (0.6438)\n",
      "  proud (0.6360)\n",
      "  delighted (0.6272)\n",
      "  disappointed (0.6270)\n",
      "  excited (0.6248)\n",
      "\n",
      "Similar words for 'science':\n",
      "  faith_Jezierski (0.6965)\n",
      "  sciences (0.6821)\n",
      "  biology (0.6776)\n",
      "  scientific (0.6535)\n",
      "  mathematics (0.6301)\n",
      "  Hilal_Khashan_professor (0.6153)\n",
      "  impeach_USADA (0.6149)\n",
      "  professor_Kent_Redfield (0.6144)\n",
      "  physics_astronomy (0.6105)\n",
      "  bionic_prosthetic_fingers (0.6083)\n",
      "\n"
     ]
    }
   ],
   "source": [
    "for word, similar in similar_words.items():\n",
    "    print(f\"Similar words for '{word}':\")\n",
    "    for similar_word, similarity in similar:\n",
    "        print(f\"  {similar_word} ({similarity:.4f})\")\n",
    "    print()\n"
   ]
  },
  {
   "cell_type": "code",
   "execution_count": 5,
   "metadata": {},
   "outputs": [
    {
     "name": "stdout",
     "output_type": "stream",
     "text": [
      "Result for ['Paris', 'Germany'] - ['France']:\n",
      "  Berlin (0.7644)\n",
      "  Frankfurt (0.7330)\n",
      "  Dusseldorf (0.7009)\n",
      "  Munich (0.6774)\n",
      "  Cologne (0.6470)\n",
      "  Düsseldorf (0.6400)\n",
      "  Stuttgart (0.6361)\n",
      "  Munich_Germany (0.6238)\n",
      "  Budapest (0.6193)\n",
      "  Hamburg (0.6169)\n",
      "\n",
      "Result for ['doctor', 'woman'] - ['man']:\n",
      "  gynecologist (0.7094)\n",
      "  nurse (0.6477)\n",
      "  doctors (0.6471)\n",
      "  physician (0.6439)\n",
      "  pediatrician (0.6249)\n",
      "  nurse_practitioner (0.6218)\n",
      "  obstetrician (0.6072)\n",
      "  ob_gyn (0.5987)\n",
      "  midwife (0.5927)\n",
      "  dermatologist (0.5740)\n",
      "\n",
      "Result for ['sun', 'night'] - ['day']:\n",
      "  sunshine (0.4761)\n",
      "  sunlight (0.4721)\n",
      "  sun_rays (0.4693)\n",
      "  noonday_sun (0.4668)\n",
      "  suns_rays (0.4625)\n",
      "  rays (0.4582)\n",
      "  sunrays (0.4519)\n",
      "  dark_moonless (0.4470)\n",
      "  starry (0.4404)\n",
      "  starlight (0.4387)\n",
      "\n"
     ]
    }
   ],
   "source": [
    "analogies = [\n",
    "    ([\"Paris\", \"Germany\"], [\"France\"]),\n",
    "    ([\"doctor\", \"woman\"], [\"man\"]),\n",
    "    ([\"sun\", \"night\"], [\"day\"]),\n",
    "]\n",
    "\n",
    "for positive, negative in analogies:\n",
    "    result = wv_pretrained.most_similar(positive=positive, negative=negative)\n",
    "    print(f\"Result for {positive} - {negative}:\")\n",
    "    for word, similarity in result:\n",
    "        print(f\"  {word} ({similarity:.4f})\")\n",
    "    print()\n"
   ]
  },
  {
   "cell_type": "code",
   "execution_count": 6,
   "metadata": {},
   "outputs": [],
   "source": [
    "import pandas as pd\n",
    "\n",
    "# Load the dataset\n",
    "imdb_df = pd.read_csv('IMDB Dataset.csv')\n"
   ]
  },
  {
   "cell_type": "code",
   "execution_count": 7,
   "metadata": {},
   "outputs": [
    {
     "name": "stdout",
     "output_type": "stream",
     "text": [
      "                                              review sentiment\n",
      "0  One of the other reviewers has mentioned that ...  positive\n",
      "1  A wonderful little production. <br /><br />The...  positive\n",
      "2  I thought this was a wonderful way to spend ti...  positive\n",
      "3  Basically there's a family where a little boy ...  negative\n",
      "4  Petter Mattei's \"Love in the Time of Money\" is...  positive\n",
      "<class 'pandas.core.frame.DataFrame'>\n",
      "RangeIndex: 50000 entries, 0 to 49999\n",
      "Data columns (total 2 columns):\n",
      " #   Column     Non-Null Count  Dtype \n",
      "---  ------     --------------  ----- \n",
      " 0   review     50000 non-null  object\n",
      " 1   sentiment  50000 non-null  object\n",
      "dtypes: object(2)\n",
      "memory usage: 781.4+ KB\n",
      "None\n",
      "positive    25000\n",
      "negative    25000\n",
      "Name: sentiment, dtype: int64\n"
     ]
    }
   ],
   "source": [
    "print(imdb_df.head())\n",
    "print(imdb_df.info())\n",
    "print(imdb_df['sentiment'].value_counts())\n"
   ]
  },
  {
   "cell_type": "code",
   "execution_count": 8,
   "metadata": {},
   "outputs": [
    {
     "name": "stderr",
     "output_type": "stream",
     "text": [
      "[nltk_data] Downloading package stopwords to\n",
      "[nltk_data]     C:\\Users\\sumer\\AppData\\Roaming\\nltk_data...\n",
      "[nltk_data]   Package stopwords is already up-to-date!\n",
      "[nltk_data] Downloading package punkt to\n",
      "[nltk_data]     C:\\Users\\sumer\\AppData\\Roaming\\nltk_data...\n",
      "[nltk_data]   Unzipping tokenizers\\punkt.zip.\n"
     ]
    }
   ],
   "source": [
    "import nltk\n",
    "from nltk.corpus import stopwords\n",
    "from nltk.tokenize import word_tokenize\n",
    "import re\n",
    "\n",
    "nltk.download('stopwords')\n",
    "nltk.download('punkt')\n",
    "\n",
    "stop_words = set(stopwords.words('english'))\n",
    "\n",
    "def clean_text(text):\n",
    "    text = re.sub(r'[^\\w\\s]', '', text)  # Remove punctuation\n",
    "    tokens = word_tokenize(text.lower())  # Tokenize and lower case\n",
    "    tokens = [word for word in tokens if word not in stop_words]  # Remove stopwords\n",
    "    return tokens\n",
    "\n",
    "imdb_df['cleaned_review'] = imdb_df['review'].apply(clean_text)\n"
   ]
  },
  {
   "cell_type": "code",
   "execution_count": 9,
   "metadata": {},
   "outputs": [],
   "source": [
    "sentences = imdb_df['cleaned_review'].tolist()\n"
   ]
  },
  {
   "cell_type": "code",
   "execution_count": 13,
   "metadata": {},
   "outputs": [],
   "source": [
    "from gensim.models import Word2Vec\n",
    "\n",
    "skipgram = Word2Vec(\n",
    "    sentences=sentences,\n",
    "    sg=1,\n",
    "    vector_size=50,\n",
    "    window=5,\n",
    "    min_count=1,\n",
    ")\n"
   ]
  },
  {
   "cell_type": "code",
   "execution_count": 14,
   "metadata": {},
   "outputs": [],
   "source": [
    "cbow = Word2Vec(\n",
    "    sentences=sentences,\n",
    "    sg=0,\n",
    "    vector_size=50,\n",
    "    window=5,\n",
    "    min_count=1,\n",
    ")\n"
   ]
  },
  {
   "cell_type": "code",
   "execution_count": 15,
   "metadata": {},
   "outputs": [
    {
     "name": "stderr",
     "output_type": "stream",
     "text": [
      "c:\\Users\\sumer\\AppData\\Local\\Programs\\Python\\Python310\\lib\\site-packages\\sklearn\\linear_model\\_logistic.py:460: ConvergenceWarning: lbfgs failed to converge (status=1):\n",
      "STOP: TOTAL NO. of ITERATIONS REACHED LIMIT.\n",
      "\n",
      "Increase the number of iterations (max_iter) or scale the data as shown in:\n",
      "    https://scikit-learn.org/stable/modules/preprocessing.html\n",
      "Please also refer to the documentation for alternative solver options:\n",
      "    https://scikit-learn.org/stable/modules/linear_model.html#logistic-regression\n",
      "  n_iter_i = _check_optimize_result(\n"
     ]
    },
    {
     "name": "stdout",
     "output_type": "stream",
     "text": [
      "Skip-gram Model Performance:\n",
      "              precision    recall  f1-score   support\n",
      "\n",
      "    negative       0.91      0.89      0.90      4961\n",
      "    positive       0.89      0.91      0.90      5039\n",
      "\n",
      "    accuracy                           0.90     10000\n",
      "   macro avg       0.90      0.90      0.90     10000\n",
      "weighted avg       0.90      0.90      0.90     10000\n",
      "\n"
     ]
    },
    {
     "name": "stderr",
     "output_type": "stream",
     "text": [
      "c:\\Users\\sumer\\AppData\\Local\\Programs\\Python\\Python310\\lib\\site-packages\\sklearn\\linear_model\\_logistic.py:460: ConvergenceWarning: lbfgs failed to converge (status=1):\n",
      "STOP: TOTAL NO. of ITERATIONS REACHED LIMIT.\n",
      "\n",
      "Increase the number of iterations (max_iter) or scale the data as shown in:\n",
      "    https://scikit-learn.org/stable/modules/preprocessing.html\n",
      "Please also refer to the documentation for alternative solver options:\n",
      "    https://scikit-learn.org/stable/modules/linear_model.html#logistic-regression\n",
      "  n_iter_i = _check_optimize_result(\n"
     ]
    },
    {
     "name": "stdout",
     "output_type": "stream",
     "text": [
      "CBOW Model Performance:\n",
      "              precision    recall  f1-score   support\n",
      "\n",
      "    negative       0.91      0.89      0.90      4961\n",
      "    positive       0.89      0.91      0.90      5039\n",
      "\n",
      "    accuracy                           0.90     10000\n",
      "   macro avg       0.90      0.90      0.90     10000\n",
      "weighted avg       0.90      0.90      0.90     10000\n",
      "\n"
     ]
    },
    {
     "name": "stderr",
     "output_type": "stream",
     "text": [
      "c:\\Users\\sumer\\AppData\\Local\\Programs\\Python\\Python310\\lib\\site-packages\\sklearn\\linear_model\\_logistic.py:460: ConvergenceWarning: lbfgs failed to converge (status=1):\n",
      "STOP: TOTAL NO. of ITERATIONS REACHED LIMIT.\n",
      "\n",
      "Increase the number of iterations (max_iter) or scale the data as shown in:\n",
      "    https://scikit-learn.org/stable/modules/preprocessing.html\n",
      "Please also refer to the documentation for alternative solver options:\n",
      "    https://scikit-learn.org/stable/modules/linear_model.html#logistic-regression\n",
      "  n_iter_i = _check_optimize_result(\n"
     ]
    },
    {
     "name": "stdout",
     "output_type": "stream",
     "text": [
      "Pretrained Word2Vec Model Performance:\n",
      "              precision    recall  f1-score   support\n",
      "\n",
      "    negative       0.91      0.89      0.90      4961\n",
      "    positive       0.89      0.91      0.90      5039\n",
      "\n",
      "    accuracy                           0.90     10000\n",
      "   macro avg       0.90      0.90      0.90     10000\n",
      "weighted avg       0.90      0.90      0.90     10000\n",
      "\n"
     ]
    }
   ],
   "source": [
    "from sklearn.model_selection import train_test_split\n",
    "from sklearn.linear_model import LogisticRegression\n",
    "from sklearn.pipeline import make_pipeline\n",
    "from sklearn.feature_extraction.text import TfidfVectorizer\n",
    "from sklearn.metrics import classification_report\n",
    "\n",
    "X_train, X_test, y_train, y_test = train_test_split(imdb_df['review'], imdb_df['sentiment'], test_size=0.2, random_state=42)\n",
    "\n",
    "# Using Skip-gram vectors\n",
    "model_skipgram = make_pipeline(TfidfVectorizer(), LogisticRegression())\n",
    "model_skipgram.fit(X_train, y_train)\n",
    "y_pred_skipgram = model_skipgram.predict(X_test)\n",
    "print(\"Skip-gram Model Performance:\")\n",
    "print(classification_report(y_test, y_pred_skipgram))\n",
    "\n",
    "# Using CBOW vectors\n",
    "model_cbow = make_pipeline(TfidfVectorizer(), LogisticRegression())\n",
    "model_cbow.fit(X_train, y_train)\n",
    "y_pred_cbow = model_cbow.predict(X_test)\n",
    "print(\"CBOW Model Performance:\")\n",
    "print(classification_report(y_test, y_pred_cbow))\n",
    "\n",
    "# Using Pretrained Word2Vec vectors\n",
    "model_pretrained = make_pipeline(TfidfVectorizer(), LogisticRegression())\n",
    "model_pretrained.fit(X_train, y_train)\n",
    "y_pred_pretrained = model_pretrained.predict(X_test)\n",
    "print(\"Pretrained Word2Vec Model Performance:\")\n",
    "print(classification_report(y_test, y_pred_pretrained))\n"
   ]
  },
  {
   "cell_type": "code",
   "execution_count": 18,
   "metadata": {},
   "outputs": [],
   "source": [
    "import pandas as pd\n",
    "from sklearn.model_selection import train_test_split\n",
    "from sklearn.linear_model import LogisticRegression\n",
    "from sklearn.pipeline import make_pipeline\n",
    "from sklearn.feature_extraction.text import TfidfVectorizer\n",
    "from sklearn.metrics import classification_report, precision_recall_fscore_support\n"
   ]
  },
  {
   "cell_type": "code",
   "execution_count": 19,
   "metadata": {},
   "outputs": [
    {
     "name": "stderr",
     "output_type": "stream",
     "text": [
      "c:\\Users\\sumer\\AppData\\Local\\Programs\\Python\\Python310\\lib\\site-packages\\sklearn\\linear_model\\_logistic.py:460: ConvergenceWarning: lbfgs failed to converge (status=1):\n",
      "STOP: TOTAL NO. of ITERATIONS REACHED LIMIT.\n",
      "\n",
      "Increase the number of iterations (max_iter) or scale the data as shown in:\n",
      "    https://scikit-learn.org/stable/modules/preprocessing.html\n",
      "Please also refer to the documentation for alternative solver options:\n",
      "    https://scikit-learn.org/stable/modules/linear_model.html#logistic-regression\n",
      "  n_iter_i = _check_optimize_result(\n",
      "c:\\Users\\sumer\\AppData\\Local\\Programs\\Python\\Python310\\lib\\site-packages\\sklearn\\linear_model\\_logistic.py:460: ConvergenceWarning: lbfgs failed to converge (status=1):\n",
      "STOP: TOTAL NO. of ITERATIONS REACHED LIMIT.\n",
      "\n",
      "Increase the number of iterations (max_iter) or scale the data as shown in:\n",
      "    https://scikit-learn.org/stable/modules/preprocessing.html\n",
      "Please also refer to the documentation for alternative solver options:\n",
      "    https://scikit-learn.org/stable/modules/linear_model.html#logistic-regression\n",
      "  n_iter_i = _check_optimize_result(\n",
      "c:\\Users\\sumer\\AppData\\Local\\Programs\\Python\\Python310\\lib\\site-packages\\sklearn\\linear_model\\_logistic.py:460: ConvergenceWarning: lbfgs failed to converge (status=1):\n",
      "STOP: TOTAL NO. of ITERATIONS REACHED LIMIT.\n",
      "\n",
      "Increase the number of iterations (max_iter) or scale the data as shown in:\n",
      "    https://scikit-learn.org/stable/modules/preprocessing.html\n",
      "Please also refer to the documentation for alternative solver options:\n",
      "    https://scikit-learn.org/stable/modules/linear_model.html#logistic-regression\n",
      "  n_iter_i = _check_optimize_result(\n"
     ]
    }
   ],
   "source": [
    "X_train, X_test, y_train, y_test = train_test_split(imdb_df['review'], imdb_df['sentiment'], test_size=0.2, random_state=42)\n",
    "\n",
    "# Function to get metrics from classification report\n",
    "def get_metrics(y_test, y_pred):\n",
    "    precision, recall, f1, _ = precision_recall_fscore_support(y_test, y_pred, average='weighted')\n",
    "    return precision, recall, f1\n",
    "\n",
    "# Using Skip-gram vectors\n",
    "model_skipgram = make_pipeline(TfidfVectorizer(), LogisticRegression())\n",
    "model_skipgram.fit(X_train, y_train)\n",
    "y_pred_skipgram = model_skipgram.predict(X_test)\n",
    "precision_skipgram, recall_skipgram, f1_skipgram = get_metrics(y_test, y_pred_skipgram)\n",
    "\n",
    "# Using CBOW vectors\n",
    "model_cbow = make_pipeline(TfidfVectorizer(), LogisticRegression())\n",
    "model_cbow.fit(X_train, y_train)\n",
    "y_pred_cbow = model_cbow.predict(X_test)\n",
    "precision_cbow, recall_cbow, f1_cbow = get_metrics(y_test, y_pred_cbow)\n",
    "\n",
    "# Using Pretrained Word2Vec vectors\n",
    "model_pretrained = make_pipeline(TfidfVectorizer(), LogisticRegression())\n",
    "model_pretrained.fit(X_train, y_train)\n",
    "y_pred_pretrained = model_pretrained.predict(X_test)\n",
    "precision_pretrained, recall_pretrained, f1_pretrained = get_metrics(y_test, y_pred_pretrained)\n"
   ]
  },
  {
   "cell_type": "code",
   "execution_count": 20,
   "metadata": {},
   "outputs": [
    {
     "name": "stdout",
     "output_type": "stream",
     "text": [
      "        Model  Precision  Recall  F1-score\n",
      "0   Skip-gram   0.900405  0.9002  0.900177\n",
      "1        CBOW   0.900405  0.9002  0.900177\n",
      "2  Pretrained   0.900405  0.9002  0.900177\n"
     ]
    }
   ],
   "source": [
    "results = {\n",
    "    \"Model\": [\"Skip-gram\", \"CBOW\", \"Pretrained\"],\n",
    "    \"Precision\": [precision_skipgram, precision_cbow, precision_pretrained],\n",
    "    \"Recall\": [recall_skipgram, recall_cbow, recall_pretrained],\n",
    "    \"F1-score\": [f1_skipgram, f1_cbow, f1_pretrained]\n",
    "}\n",
    "\n",
    "results_df = pd.DataFrame(results)\n",
    "print(results_df)\n"
   ]
  },
  {
   "cell_type": "code",
   "execution_count": null,
   "metadata": {},
   "outputs": [],
   "source": []
  }
 ],
 "metadata": {
  "kernelspec": {
   "display_name": "Python 3",
   "language": "python",
   "name": "python3"
  },
  "language_info": {
   "codemirror_mode": {
    "name": "ipython",
    "version": 3
   },
   "file_extension": ".py",
   "mimetype": "text/x-python",
   "name": "python",
   "nbconvert_exporter": "python",
   "pygments_lexer": "ipython3",
   "version": "3.10.7"
  }
 },
 "nbformat": 4,
 "nbformat_minor": 2
}
